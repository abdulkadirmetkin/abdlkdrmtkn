{
 "cells": [
  {
   "cell_type": "code",
   "execution_count": 3,
   "metadata": {},
   "outputs": [
    {
     "name": "stdout",
     "output_type": "stream",
     "text": [
      "denkleminiz(a*x**+b*x+c),(a*x**+b*x-c),(a*x**-b*x+c) 'veya'(a*x**-b*x-c)şeklinde olmalıdır\n",
      "a değerini giriniz:1\n",
      "b değerini giriniz:4\n",
      "c değerini giriniz:4\n",
      "reel iki kök vardır\n",
      "kök1:-2.00390625\n",
      " kök2:-1.99609375\n",
      " \n"
     ]
    }
   ],
   "source": [
    "print(\"denkleminiz(a*x**+b*x+c),(a*x**+b*x-c),(a*x**-b*x+c) 'veya'(a*x**-b*x-c)şeklinde olmalıdır\")\n",
    "a=int(input(\"a değerini giriniz:\"))\n",
    "b=int(input(\"b değerini giriniz:\"))\n",
    "c=int(input(\"c değerini giriniz:\"))\n",
    "delta=(b**-4*a*c)\n",
    "x1=(-b-delta*0.5)/(2*a)\n",
    "x2=(-b+delta*0.5)/(2*a)\n",
    "if delta<0:\n",
    "    print(\"reel kök yoktur\")\n",
    "if delta==0:\n",
    "    print(\"çakışık iki kök vardır\")\n",
    "    print(\"kök1:{}\\n kök2:{}\\n \".format(x1,x2))\n",
    "if delta>0:\n",
    "    print(\"reel iki kök vardır\")\n",
    "    print(\"kök1:{}\\n kök2:{}\\n \".format(x1,x2))"
   ]
  },
  {
   "cell_type": "code",
   "execution_count": null,
   "metadata": {},
   "outputs": [],
   "source": []
  }
 ],
 "metadata": {
  "kernelspec": {
   "display_name": "Python 3",
   "language": "python",
   "name": "python3"
  },
  "language_info": {
   "codemirror_mode": {
    "name": "ipython",
    "version": 3
   },
   "file_extension": ".py",
   "mimetype": "text/x-python",
   "name": "python",
   "nbconvert_exporter": "python",
   "pygments_lexer": "ipython3",
   "version": "3.6.7"
  }
 },
 "nbformat": 4,
 "nbformat_minor": 2
}
