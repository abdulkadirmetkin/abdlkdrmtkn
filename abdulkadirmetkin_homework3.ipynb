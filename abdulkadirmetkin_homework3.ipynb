{
 "cells": [
  {
   "cell_type": "code",
   "execution_count": null,
   "metadata": {},
   "outputs": [],
   "source": [
    "num=float(input(\"1,2 veya 3 yolunu seçiniz:\"))\n",
    "if num >3 or num<1:\n",
    "    print(\"tekrar deneyiniz\")\n",
    "    \n",
    "elif num==1:\n",
    "    print(\"bir üçgende hipotenüs bulma\")\n",
    "    a=int(input(\"bir a değeri giriniz:\"))\n",
    "    b=int(input(\"bir b değeri giriniz:\"))\n",
    "    c=(a**2+b**2)**0.5\n",
    "    print(\"hipotenüs:\",c)\n",
    "\n",
    "elif num==2:\n",
    "    sayac=float(input(\"bir sayı giriniz:\"))\n",
    "    i=1\n",
    "    while i<=sayac:\n",
    "        print(i)\n",
    "        i+=1\n",
    "        \n",
    "elif num==3:\n",
    "    q=int(input(\"bir q değeri giriniz:\"))\n",
    "    w=int(input(\"bir w değeri giriniz:\"))\n",
    "    e=int(input(\"bir e değeri giriniz:\"))\n",
    "    r=int(input(\"bir r değeri giriniz:\"))\n",
    "    t=int(input(\"bir t değeri giriniz:\"))\n",
    "    y=int(input(\"bir y değeri giriniz:\"))\n",
    "    u=(q+w+e+r+t+y)/6\n",
    "    print(\"aritmetik ortalama:\",u)"
   ]
  }
 ],
 "metadata": {
  "kernelspec": {
   "display_name": "Python 3",
   "language": "python",
   "name": "python3"
  },
  "language_info": {
   "codemirror_mode": {
    "name": "ipython",
    "version": 3
   },
   "file_extension": ".py",
   "mimetype": "text/x-python",
   "name": "python",
   "nbconvert_exporter": "python",
   "pygments_lexer": "ipython3",
   "version": "3.6.7"
  }
 },
 "nbformat": 4,
 "nbformat_minor": 2
}
